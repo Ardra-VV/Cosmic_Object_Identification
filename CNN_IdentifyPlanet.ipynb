{
  "cells": [
    {
      "cell_type": "markdown",
      "metadata": {
        "id": "view-in-github",
        "colab_type": "text"
      },
      "source": [
        "<a href=\"https://colab.research.google.com/github/Ardra-VV/Cosmic_Object_Identification/blob/main/CNN_IdentifyPlanet.ipynb\" target=\"_parent\"><img src=\"https://colab.research.google.com/assets/colab-badge.svg\" alt=\"Open In Colab\"/></a>"
      ]
    },
    {
      "cell_type": "code",
      "execution_count": 1,
      "id": "9fa57799-42fb-4b35-818f-d39aac05748f",
      "metadata": {
        "id": "9fa57799-42fb-4b35-818f-d39aac05748f"
      },
      "outputs": [],
      "source": [
        "import os\n",
        "import numpy as np\n",
        "import tensorflow as tf\n",
        "import matplotlib.pyplot as plt\n",
        "import warnings\n",
        "from tensorflow import keras\n",
        "from tensorflow.keras.preprocessing import image_dataset_from_directory\n",
        "from tensorflow.keras import layers\n",
        "from tensorflow.keras.applications import VGG16"
      ]
    },
    {
      "cell_type": "code",
      "execution_count": 2,
      "id": "898c385a-e795-4a76-bfdf-fe244a840e07",
      "metadata": {
        "id": "898c385a-e795-4a76-bfdf-fe244a840e07"
      },
      "outputs": [],
      "source": [
        "plt.rc('figure', autolayout = True)\n",
        "plt.rc('axes', labelweight = 'bold', titleweight = 'bold', titlesize = 18, titlepad = 10, labelsize = 'large')\n",
        "plt.rc('image', cmap = 'magma')\n",
        "warnings.filterwarnings(\"ignore\")"
      ]
    },
    {
      "cell_type": "code",
      "execution_count": 3,
      "id": "6d721857-3e38-43ae-bd37-42da57c8e76f",
      "metadata": {
        "id": "6d721857-3e38-43ae-bd37-42da57c8e76f"
      },
      "outputs": [],
      "source": [
        "def seed_set(seed = 31415):\n",
        "    np.random.seed(seed)\n",
        "    tf.random.set_seed(seed)\n",
        "    os.environ['PYTHONHASHSEED'] = str(seed)\n",
        "    os.environ['TF_DETERMINISTIC-OPS'] = '1'\n",
        "seed_set(31415)"
      ]
    },
    {
      "cell_type": "code",
      "execution_count": 5,
      "id": "c79479bb-d665-4b69-8a1e-4592d4cfcf75",
      "metadata": {
        "id": "c79479bb-d665-4b69-8a1e-4592d4cfcf75",
        "colab": {
          "base_uri": "https://localhost:8080/"
        },
        "outputId": "b9d8d387-f13c-42af-849d-6ede85ee7c86"
      },
      "outputs": [
        {
          "output_type": "stream",
          "name": "stdout",
          "text": [
            "Drive already mounted at /content/drive; to attempt to forcibly remount, call drive.mount(\"/content/drive\", force_remount=True).\n",
            "Requirement already satisfied: tensorflow_datasets in /usr/local/lib/python3.10/dist-packages (4.9.4)\n",
            "Requirement already satisfied: absl-py in /usr/local/lib/python3.10/dist-packages (from tensorflow_datasets) (1.4.0)\n",
            "Requirement already satisfied: click in /usr/local/lib/python3.10/dist-packages (from tensorflow_datasets) (8.1.7)\n",
            "Requirement already satisfied: dm-tree in /usr/local/lib/python3.10/dist-packages (from tensorflow_datasets) (0.1.8)\n",
            "Requirement already satisfied: etils[enp,epath,etree]>=0.9.0 in /usr/local/lib/python3.10/dist-packages (from tensorflow_datasets) (1.7.0)\n",
            "Requirement already satisfied: numpy in /usr/local/lib/python3.10/dist-packages (from tensorflow_datasets) (1.25.2)\n",
            "Requirement already satisfied: promise in /usr/local/lib/python3.10/dist-packages (from tensorflow_datasets) (2.3)\n",
            "Requirement already satisfied: protobuf>=3.20 in /usr/local/lib/python3.10/dist-packages (from tensorflow_datasets) (3.20.3)\n",
            "Requirement already satisfied: psutil in /usr/local/lib/python3.10/dist-packages (from tensorflow_datasets) (5.9.5)\n",
            "Requirement already satisfied: requests>=2.19.0 in /usr/local/lib/python3.10/dist-packages (from tensorflow_datasets) (2.31.0)\n",
            "Requirement already satisfied: tensorflow-metadata in /usr/local/lib/python3.10/dist-packages (from tensorflow_datasets) (1.14.0)\n",
            "Requirement already satisfied: termcolor in /usr/local/lib/python3.10/dist-packages (from tensorflow_datasets) (2.4.0)\n",
            "Requirement already satisfied: toml in /usr/local/lib/python3.10/dist-packages (from tensorflow_datasets) (0.10.2)\n",
            "Requirement already satisfied: tqdm in /usr/local/lib/python3.10/dist-packages (from tensorflow_datasets) (4.66.2)\n",
            "Requirement already satisfied: wrapt in /usr/local/lib/python3.10/dist-packages (from tensorflow_datasets) (1.14.1)\n",
            "Requirement already satisfied: array-record>=0.5.0 in /usr/local/lib/python3.10/dist-packages (from tensorflow_datasets) (0.5.1)\n",
            "Requirement already satisfied: fsspec in /usr/local/lib/python3.10/dist-packages (from etils[enp,epath,etree]>=0.9.0->tensorflow_datasets) (2023.6.0)\n",
            "Requirement already satisfied: importlib_resources in /usr/local/lib/python3.10/dist-packages (from etils[enp,epath,etree]>=0.9.0->tensorflow_datasets) (6.4.0)\n",
            "Requirement already satisfied: typing_extensions in /usr/local/lib/python3.10/dist-packages (from etils[enp,epath,etree]>=0.9.0->tensorflow_datasets) (4.11.0)\n",
            "Requirement already satisfied: zipp in /usr/local/lib/python3.10/dist-packages (from etils[enp,epath,etree]>=0.9.0->tensorflow_datasets) (3.18.1)\n",
            "Requirement already satisfied: charset-normalizer<4,>=2 in /usr/local/lib/python3.10/dist-packages (from requests>=2.19.0->tensorflow_datasets) (3.3.2)\n",
            "Requirement already satisfied: idna<4,>=2.5 in /usr/local/lib/python3.10/dist-packages (from requests>=2.19.0->tensorflow_datasets) (3.6)\n",
            "Requirement already satisfied: urllib3<3,>=1.21.1 in /usr/local/lib/python3.10/dist-packages (from requests>=2.19.0->tensorflow_datasets) (2.0.7)\n",
            "Requirement already satisfied: certifi>=2017.4.17 in /usr/local/lib/python3.10/dist-packages (from requests>=2.19.0->tensorflow_datasets) (2024.2.2)\n",
            "Requirement already satisfied: six in /usr/local/lib/python3.10/dist-packages (from promise->tensorflow_datasets) (1.16.0)\n",
            "Requirement already satisfied: googleapis-common-protos<2,>=1.52.0 in /usr/local/lib/python3.10/dist-packages (from tensorflow-metadata->tensorflow_datasets) (1.63.0)\n",
            "Training directory: /content/drive/MyDrive/Identify_planet/train\n",
            "Validation directory: /content/drive/MyDrive/Identify_planet/valid\n",
            "Found 368 files belonging to 8 classes.\n",
            "Found 368 files belonging to 8 classes.\n"
          ]
        }
      ],
      "source": [
        "from google.colab import drive\n",
        "drive.mount('/content/drive')\n",
        "train_dir = '/content/drive/MyDrive/Identify_planet/train'\n",
        "valid_dir = '/content/drive/MyDrive/Identify_planet/valid'\n",
        "!pip install tensorflow_datasets\n",
        "import tensorflow_datasets as tfds\n",
        "\n",
        "\n",
        "print(\"Training directory:\",train_dir)\n",
        "print(\"Validation directory:\",valid_dir)\n",
        "\n",
        "ds_train_ = image_dataset_from_directory(\n",
        "    train_dir,\n",
        "    labels = 'inferred',\n",
        "    label_mode = 'categorical',\n",
        "    image_size = [128, 128],\n",
        "    interpolation = 'nearest',\n",
        "    batch_size = 64,\n",
        "    shuffle = True,\n",
        ")\n",
        "\n",
        "ds_valid_ = image_dataset_from_directory(\n",
        "    train_dir,\n",
        "    labels = 'inferred',\n",
        "    label_mode = 'categorical',\n",
        "    image_size = [128, 128],\n",
        "    interpolation = 'nearest',\n",
        "    batch_size = 64,\n",
        "    shuffle = False,\n",
        ")\n"
      ]
    },
    {
      "cell_type": "code",
      "execution_count": 7,
      "id": "ccf38806-f1e3-4f20-8465-18b21264e512",
      "metadata": {
        "id": "ccf38806-f1e3-4f20-8465-18b21264e512"
      },
      "outputs": [],
      "source": [
        "def convert_to_float(image, label):\n",
        "    image = tf.image.convert_image_dtype(image, dtype = tf.float32)\n",
        "    return image, label\n",
        "\n",
        "AUTOTUNE = tf.data.experimental.AUTOTUNE\n",
        "ds_train = (\n",
        "    ds_train_\n",
        "    .map(convert_to_float)\n",
        "    .cache()\n",
        "    .prefetch(buffer_size = AUTOTUNE)\n",
        ")\n",
        "ds_valid = (\n",
        "    ds_valid_\n",
        "    .map(convert_to_float)\n",
        "    .cache()\n",
        "    .prefetch(buffer_size = AUTOTUNE)\n",
        ")"
      ]
    },
    {
      "cell_type": "code",
      "execution_count": 9,
      "id": "813d6404-1b1d-4553-a35f-ee81df53d40c",
      "metadata": {
        "id": "813d6404-1b1d-4553-a35f-ee81df53d40c",
        "colab": {
          "base_uri": "https://localhost:8080/"
        },
        "outputId": "72af7bc4-9fa3-4e5d-f60d-7678c7b55fa9"
      },
      "outputs": [
        {
          "output_type": "stream",
          "name": "stdout",
          "text": [
            "Downloading data from https://storage.googleapis.com/tensorflow/keras-applications/vgg16/vgg16_weights_tf_dim_ordering_tf_kernels_notop.h5\n",
            "58889256/58889256 [==============================] - 4s 0us/step\n"
          ]
        }
      ],
      "source": [
        "pretrained_base = VGG16(weights = 'imagenet',include_top = False, input_shape = (128,128,3))\n",
        "\n",
        "pretrained_base.trainable = False"
      ]
    },
    {
      "cell_type": "code",
      "execution_count": 11,
      "id": "7d23e6d9-5efa-406b-912e-fcf0a51aa4bb",
      "metadata": {
        "id": "7d23e6d9-5efa-406b-912e-fcf0a51aa4bb",
        "outputId": "2186d027-d539-4384-bdbb-52b6062fd473",
        "colab": {
          "base_uri": "https://localhost:8080/"
        }
      },
      "outputs": [
        {
          "output_type": "stream",
          "name": "stdout",
          "text": [
            "Epoch 1/30\n",
            "6/6 [==============================] - 8s 1s/step - loss: 1.5180 - accuracy: 0.4837 - val_loss: 0.3347 - val_accuracy: 0.8614\n",
            "Epoch 2/30\n",
            "6/6 [==============================] - 1s 165ms/step - loss: 0.3888 - accuracy: 0.8370 - val_loss: 0.1182 - val_accuracy: 1.0000\n",
            "Epoch 3/30\n",
            "6/6 [==============================] - 1s 155ms/step - loss: 0.2000 - accuracy: 0.9321 - val_loss: 0.0578 - val_accuracy: 1.0000\n",
            "Epoch 4/30\n",
            "6/6 [==============================] - 1s 157ms/step - loss: 0.1165 - accuracy: 0.9538 - val_loss: 0.0261 - val_accuracy: 1.0000\n",
            "Epoch 5/30\n",
            "6/6 [==============================] - 1s 155ms/step - loss: 0.0551 - accuracy: 0.9864 - val_loss: 0.0135 - val_accuracy: 1.0000\n",
            "Epoch 6/30\n",
            "6/6 [==============================] - 1s 156ms/step - loss: 0.0358 - accuracy: 0.9918 - val_loss: 0.0089 - val_accuracy: 1.0000\n",
            "Epoch 7/30\n",
            "6/6 [==============================] - 1s 156ms/step - loss: 0.0255 - accuracy: 1.0000 - val_loss: 0.0061 - val_accuracy: 1.0000\n",
            "Epoch 8/30\n",
            "6/6 [==============================] - 1s 200ms/step - loss: 0.0152 - accuracy: 1.0000 - val_loss: 0.0038 - val_accuracy: 1.0000\n",
            "Epoch 9/30\n",
            "6/6 [==============================] - 1s 157ms/step - loss: 0.0119 - accuracy: 1.0000 - val_loss: 0.0026 - val_accuracy: 1.0000\n",
            "Epoch 10/30\n",
            "6/6 [==============================] - 1s 156ms/step - loss: 0.0093 - accuracy: 1.0000 - val_loss: 0.0020 - val_accuracy: 1.0000\n",
            "Epoch 11/30\n",
            "6/6 [==============================] - 1s 155ms/step - loss: 0.0084 - accuracy: 1.0000 - val_loss: 0.0018 - val_accuracy: 1.0000\n",
            "Epoch 12/30\n",
            "6/6 [==============================] - 1s 158ms/step - loss: 0.0101 - accuracy: 1.0000 - val_loss: 0.0016 - val_accuracy: 1.0000\n",
            "Epoch 13/30\n",
            "6/6 [==============================] - 1s 156ms/step - loss: 0.0075 - accuracy: 1.0000 - val_loss: 0.0016 - val_accuracy: 1.0000\n",
            "Epoch 14/30\n",
            "6/6 [==============================] - 1s 156ms/step - loss: 0.0060 - accuracy: 1.0000 - val_loss: 0.0013 - val_accuracy: 1.0000\n",
            "Epoch 15/30\n",
            "6/6 [==============================] - 1s 157ms/step - loss: 0.0082 - accuracy: 1.0000 - val_loss: 0.0012 - val_accuracy: 1.0000\n",
            "Epoch 16/30\n",
            "6/6 [==============================] - 1s 154ms/step - loss: 0.0065 - accuracy: 1.0000 - val_loss: 0.0014 - val_accuracy: 1.0000\n",
            "Epoch 17/30\n",
            "6/6 [==============================] - 1s 158ms/step - loss: 0.0082 - accuracy: 1.0000 - val_loss: 0.0010 - val_accuracy: 1.0000\n",
            "Epoch 18/30\n",
            "6/6 [==============================] - 1s 157ms/step - loss: 0.0068 - accuracy: 1.0000 - val_loss: 0.0011 - val_accuracy: 1.0000\n",
            "Epoch 19/30\n",
            "6/6 [==============================] - 1s 158ms/step - loss: 0.0058 - accuracy: 1.0000 - val_loss: 0.0010 - val_accuracy: 1.0000\n",
            "Epoch 20/30\n",
            "6/6 [==============================] - 1s 198ms/step - loss: 0.0043 - accuracy: 1.0000 - val_loss: 9.2806e-04 - val_accuracy: 1.0000\n",
            "Epoch 21/30\n",
            "6/6 [==============================] - 1s 202ms/step - loss: 0.0053 - accuracy: 1.0000 - val_loss: 7.6727e-04 - val_accuracy: 1.0000\n",
            "Epoch 22/30\n",
            "6/6 [==============================] - 1s 159ms/step - loss: 0.0044 - accuracy: 1.0000 - val_loss: 6.7346e-04 - val_accuracy: 1.0000\n",
            "Epoch 23/30\n",
            "6/6 [==============================] - 1s 156ms/step - loss: 0.0036 - accuracy: 1.0000 - val_loss: 6.5539e-04 - val_accuracy: 1.0000\n",
            "Epoch 24/30\n",
            "6/6 [==============================] - 1s 158ms/step - loss: 0.0049 - accuracy: 1.0000 - val_loss: 5.6352e-04 - val_accuracy: 1.0000\n",
            "Epoch 25/30\n",
            "6/6 [==============================] - 1s 159ms/step - loss: 0.0041 - accuracy: 1.0000 - val_loss: 5.3238e-04 - val_accuracy: 1.0000\n",
            "Epoch 26/30\n",
            "6/6 [==============================] - 1s 157ms/step - loss: 0.0040 - accuracy: 1.0000 - val_loss: 5.2166e-04 - val_accuracy: 1.0000\n",
            "Epoch 27/30\n",
            "6/6 [==============================] - 1s 157ms/step - loss: 0.0057 - accuracy: 1.0000 - val_loss: 7.1307e-04 - val_accuracy: 1.0000\n",
            "Epoch 28/30\n",
            "6/6 [==============================] - 1s 158ms/step - loss: 0.0035 - accuracy: 1.0000 - val_loss: 7.1836e-04 - val_accuracy: 1.0000\n",
            "Epoch 29/30\n",
            "6/6 [==============================] - 1s 158ms/step - loss: 0.0021 - accuracy: 1.0000 - val_loss: 5.3257e-04 - val_accuracy: 1.0000\n",
            "Epoch 30/30\n",
            "6/6 [==============================] - 1s 158ms/step - loss: 0.0028 - accuracy: 1.0000 - val_loss: 4.8790e-04 - val_accuracy: 1.0000\n"
          ]
        }
      ],
      "source": [
        "#build\n",
        "model = keras.Sequential([\n",
        "    pretrained_base,\n",
        "    layers.Flatten(),\n",
        "    layers.Dense(256, activation = 'relu'),\n",
        "    layers.Dropout(0.5),\n",
        "    layers.Dense(8, activation = 'softmax')\n",
        "])\n",
        "#compile\n",
        "model.compile(\n",
        "    optimizer = 'adam',\n",
        "    loss = 'categorical_crossentropy',\n",
        "    metrics = ['accuracy']\n",
        ")\n",
        "\n",
        "#train\n",
        "history = model.fit(\n",
        "    ds_train,validation_data = ds_valid,\n",
        "    epochs = 30,\n",
        "    verbose = 1\n",
        ")\n"
      ]
    },
    {
      "cell_type": "code",
      "execution_count": 12,
      "id": "ec663541-72ed-43e5-baaf-8c349fd10a75",
      "metadata": {
        "id": "ec663541-72ed-43e5-baaf-8c349fd10a75"
      },
      "outputs": [],
      "source": [
        "labels = ['Mercury', 'Venus', 'Earth', 'Mars', 'Jupiter', 'Saturn', 'Uranus', 'Neptune']"
      ]
    },
    {
      "cell_type": "code",
      "execution_count": 13,
      "id": "6140fcea-3dfe-4d93-ada5-b60d4eb384ee",
      "metadata": {
        "id": "6140fcea-3dfe-4d93-ada5-b60d4eb384ee"
      },
      "outputs": [],
      "source": [
        "#preprocess image\n",
        "def preprocess_img(image_path):\n",
        "    image = tf.io.read_file(image_path)\n",
        "    image = tf.image.decode_jpeg(image, channels = 3)\n",
        "    image = tf.image.resize(image, [128,128])\n",
        "    image = tf.cast(image, tf.float32) / 255.0\n",
        "    return image"
      ]
    },
    {
      "cell_type": "code",
      "execution_count": 14,
      "id": "389ff05a-47d2-4b1a-be67-d2e929087e69",
      "metadata": {
        "id": "389ff05a-47d2-4b1a-be67-d2e929087e69"
      },
      "outputs": [],
      "source": [
        "def predict_class(image_path):\n",
        "    image = preprocess_img(image_path)\n",
        "    image = tf.expand_dims(image, axis = 0)\n",
        "    predictions = model.predict(image)\n",
        "\n",
        "    predicted_index = tf.argmax(predictions[0]).numpy()\n",
        "    predicted_class = labels[predicted_index]\n",
        "    return predicted_class"
      ]
    },
    {
      "cell_type": "code",
      "execution_count": 19,
      "id": "bab2ff3b-3b93-4456-bf79-d78254d8fab2",
      "metadata": {
        "id": "bab2ff3b-3b93-4456-bf79-d78254d8fab2",
        "outputId": "1fccc1ba-c795-4749-c8f0-3dd802ab7f6e",
        "colab": {
          "base_uri": "https://localhost:8080/"
        }
      },
      "outputs": [
        {
          "output_type": "stream",
          "name": "stdout",
          "text": [
            "1/1 [==============================] - 0s 20ms/step\n",
            "The predicted planet is:  Saturn\n"
          ]
        }
      ],
      "source": [
        "#test\n",
        "image_path = '/content/drive/MyDrive/Identify_planet/test/Saturn/Saturn729_jpg.rf.48052b68a5fc03dc5c62239e5081b7c2.jpg'\n",
        "\n",
        "planet = predict_class(image_path)\n",
        "print(\"The predicted planet is: \", planet)\n",
        "\n"
      ]
    }
  ],
  "metadata": {
    "kernelspec": {
      "display_name": "Python 3",
      "name": "python3"
    },
    "language_info": {
      "codemirror_mode": {
        "name": "ipython",
        "version": 3
      },
      "file_extension": ".py",
      "mimetype": "text/x-python",
      "name": "python",
      "nbconvert_exporter": "python",
      "pygments_lexer": "ipython3",
      "version": "3.12.1"
    },
    "colab": {
      "provenance": [],
      "gpuType": "T4",
      "include_colab_link": true
    },
    "accelerator": "GPU"
  },
  "nbformat": 4,
  "nbformat_minor": 5
}